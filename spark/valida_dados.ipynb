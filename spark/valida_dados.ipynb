{
 "cells": [
  {
   "cell_type": "code",
   "execution_count": 82,
   "metadata": {},
   "outputs": [],
   "source": [
    "from pyspark.sql import SparkSession\n",
    "from pyspark.sql.types import ArrayType, StringType\n",
    "from pyspark.sql.functions import  col, datediff, udf, explode,to_date\n",
    "from delta.tables import *"
   ]
  },
  {
   "cell_type": "code",
   "execution_count": 84,
   "metadata": {},
   "outputs": [],
   "source": [
    "spark = (\n",
    "    SparkSession\n",
    "    .builder\n",
    "    .appName(\"incrementa_reservas_delta\")\n",
    "    .config(\"spark.jars\", \"/opt/spark/jars/gcs-connector-hadoop3-latest.jar\")\n",
    "    # .config(\"spark.jars\", \"./spark/jars/spark-sql-kafka-0-10_2.12-3.1.2.jar\")\n",
    "    #com.google.cloud.bigdataoss:gcs-connector:1.9.4-hadoop3\n",
    "    .config(\"spark.jars.packages\", \"io.delta:delta-core_2.12:1.0.0,io.delta:delta-contribs_2.12:1.0.0\")\n",
    "    .config(\"spark.sql.extensions\", \"io.delta.sql.DeltaSparkSessionExtension\")\n",
    "    .config(\"spark.delta.logStore.gs.impl\", \"io.delta.storage.GCSLogStore\")\n",
    "    .config(\"spark.sql.catalog.spark_catalog\", \"org.apache.spark.sql.delta.catalog.DeltaCatalog\")\n",
    "    .config(\"fs.gs.impl\", \"com.google.cloud.hadoop.fs.gcs.GoogleHadoopFileSystem\")\n",
    "    .config(\"fs.AbstractFileSystem.gs.impl\", \"com.google.cloud.hadoop.fs.gcs.GoogleHadoopFileSystem\")\n",
    "    .config(\"fs.gs.auth.service.account.enable\", \"true\")\n",
    "    .config(\"fs.gs.auth.service.account.json.keyfile\", \"/etc/gcp/sa_credentials.json\")\n",
    "    .enableHiveSupport()\n",
    "    .config(\"spark.driver.memory\", \"8g\")\n",
    "    .getOrCreate()\n",
    ")"
   ]
  },
  {
   "cell_type": "code",
   "execution_count": 85,
   "metadata": {},
   "outputs": [
    {
     "name": "stderr",
     "output_type": "stream",
     "text": []
    }
   ],
   "source": [
    "df = (\n",
    "    spark\n",
    "    .read\n",
    "    .format(\"delta\")\n",
    "    .load(\"gs://poc_delta/stage/\")\n",
    ")"
   ]
  },
  {
   "cell_type": "code",
   "execution_count": 4,
   "metadata": {},
   "outputs": [
    {
     "name": "stdout",
     "output_type": "stream",
     "text": [
      "root\n",
      " |-- cod_reserva: string (nullable = true)\n",
      " |-- agencia: string (nullable = true)\n",
      " |-- dt_retirada: date (nullable = true)\n",
      " |-- cod_grupo: string (nullable = true)\n",
      " |-- dt_geracao_f: timestamp (nullable = true)\n",
      " |-- dt_devolucao: date (nullable = true)\n",
      " |-- dt_geracao: string (nullable = true)\n",
      "\n"
     ]
    }
   ],
   "source": [
    "df.printSchema()"
   ]
  },
  {
   "cell_type": "code",
   "execution_count": 87,
   "metadata": {},
   "outputs": [
    {
     "name": "stderr",
     "output_type": "stream",
     "text": [
      "21/11/30 19:02:08 WARN ObjectStore: Failed to get database delta, returning NoSuchObjectException\n"
     ]
    },
    {
     "name": "stdout",
     "output_type": "stream",
     "text": [
      "+------------------+\n",
      "|count(cod_reserva)|\n",
      "+------------------+\n",
      "|              1282|\n",
      "+------------------+\n",
      "\n"
     ]
    },
    {
     "name": "stderr",
     "output_type": "stream",
     "text": []
    }
   ],
   "source": [
    "spark.sql(\"\"\"\n",
    "          select count(cod_reserva)\n",
    "          from delta.`gs://poc_delta/stage/`\n",
    "          \"\"\").show()"
   ]
  },
  {
   "cell_type": "code",
   "execution_count": 10,
   "metadata": {},
   "outputs": [],
   "source": [
    "df = df.withColumn(\"qtd_diarias\", datediff(col(\"dt_devolucao\"), col(\"dt_retirada\")))"
   ]
  },
  {
   "cell_type": "code",
   "execution_count": null,
   "metadata": {},
   "outputs": [],
   "source": []
  },
  {
   "cell_type": "code",
   "execution_count": 11,
   "metadata": {},
   "outputs": [
    {
     "name": "stderr",
     "output_type": "stream",
     "text": []
    },
    {
     "name": "stdout",
     "output_type": "stream",
     "text": [
      "+-----------+-------+-----------+---------+--------------------+------------+--------------------+-----------+\n",
      "|cod_reserva|agencia|dt_retirada|cod_grupo|        dt_geracao_f|dt_devolucao|          dt_geracao|qtd_diarias|\n",
      "+-----------+-------+-----------+---------+--------------------+------------+--------------------+-----------+\n",
      "|   19812892|    MCP| 2021-12-11|        B|2021-11-29 16:52:...|  2021-12-16|2021-11-29 16:52:...|          5|\n",
      "|   61381162|    THE| 2021-12-01|       GX|2021-11-29 16:52:...|  2021-12-06|2021-11-29 16:52:...|          5|\n",
      "|   99007065|    PMW| 2021-12-04|        C|2021-11-29 16:52:...|  2021-12-09|2021-11-29 16:52:...|          5|\n",
      "|   75329358|    SDU| 2021-12-12|        B|2021-11-29 16:52:...|  2021-12-17|2021-11-29 16:52:...|          5|\n",
      "|   21666223|    VCP| 2021-12-07|        B|2021-11-29 16:52:...|  2021-12-12|2021-11-29 16:52:...|          5|\n",
      "+-----------+-------+-----------+---------+--------------------+------------+--------------------+-----------+\n",
      "only showing top 5 rows\n",
      "\n"
     ]
    },
    {
     "name": "stderr",
     "output_type": "stream",
     "text": []
    }
   ],
   "source": [
    "df.show(5)"
   ]
  },
  {
   "cell_type": "code",
   "execution_count": 57,
   "metadata": {},
   "outputs": [
    {
     "name": "stdout",
     "output_type": "stream",
     "text": [
      "[datetime.date(2021, 1, 1), datetime.date(2021, 1, 2), datetime.date(2021, 1, 3), datetime.date(2021, 1, 4), datetime.date(2021, 1, 5)]\n"
     ]
    }
   ],
   "source": [
    "import datetime\n",
    "\n",
    "dt_inicio = datetime.date(2021,1,1)\n",
    "dt_fim = datetime.date(2021,1,5)\n",
    "dt_aux = dt_inicio\n",
    "lista_date = []\n",
    "\n",
    "for i in range(5):\n",
    "    if dt_aux == dt_inicio:\n",
    "        lista_date.append(dt_inicio)\n",
    "    else:\n",
    "        lista_date.append(dt_aux)\n",
    "        \n",
    "    dt_aux = dt_aux + datetime.timedelta(days=1)\n",
    "\n",
    "print(lista_date)"
   ]
  },
  {
   "cell_type": "code",
   "execution_count": 60,
   "metadata": {},
   "outputs": [],
   "source": [
    "def dateList(qtd: int, data_inicio: datetime.date):\n",
    "    dt_aux = data_inicio\n",
    "    lista_date = []\n",
    "    for i in range(qtd):\n",
    "        if dt_aux == dt_inicio:\n",
    "            lista_date.append(dt_inicio.strftime(\"%Y-%m-%d %H:%M:%S\"))\n",
    "            #lista_date.append(dt_inicio)\n",
    "        else:\n",
    "            lista_date.append(dt_aux.strftime(\"%Y-%m-%d %H:%M:%S\"))\n",
    "            #lista_date.append(dt_aux)\n",
    "            \n",
    "        dt_aux = dt_aux + datetime.timedelta(days=1)\n",
    "    return lista_date\n",
    "    "
   ]
  },
  {
   "cell_type": "code",
   "execution_count": 61,
   "metadata": {},
   "outputs": [],
   "source": [
    "dateListUdf = udf(f=lambda qtd, data_inicio: dateList(qtd,data_inicio),returnType=ArrayType(StringType()))"
   ]
  },
  {
   "cell_type": "code",
   "execution_count": 62,
   "metadata": {},
   "outputs": [],
   "source": [
    "df = df.withColumn(\"lista_datas\", dateListUdf(col(\"qtd_diarias\"), col(\"dt_retirada\")))"
   ]
  },
  {
   "cell_type": "code",
   "execution_count": 63,
   "metadata": {},
   "outputs": [
    {
     "name": "stderr",
     "output_type": "stream",
     "text": []
    },
    {
     "name": "stdout",
     "output_type": "stream",
     "text": [
      "-RECORD 0-----------------------------------------------------------------------------------------------------------------\n",
      " cod_reserva  | 19812892                                                                                                  \n",
      " agencia      | MCP                                                                                                       \n",
      " dt_retirada  | 2021-12-11                                                                                                \n",
      " cod_grupo    | B                                                                                                         \n",
      " dt_geracao_f | 2021-11-29 16:52:27.448045                                                                                \n",
      " dt_devolucao | 2021-12-16                                                                                                \n",
      " dt_geracao   | 2021-11-29 16:52:27.448045                                                                                \n",
      " qtd_diarias  | 5                                                                                                         \n",
      " lista_datas  | [2021-12-11 00:00:00, 2021-12-12 00:00:00, 2021-12-13 00:00:00, 2021-12-14 00:00:00, 2021-12-15 00:00:00] \n",
      "only showing top 1 row\n",
      "\n"
     ]
    },
    {
     "name": "stderr",
     "output_type": "stream",
     "text": []
    }
   ],
   "source": [
    "df.show(1, vertical=True, truncate=False)"
   ]
  },
  {
   "cell_type": "code",
   "execution_count": 64,
   "metadata": {},
   "outputs": [
    {
     "name": "stdout",
     "output_type": "stream",
     "text": [
      "root\n",
      " |-- cod_reserva: string (nullable = true)\n",
      " |-- agencia: string (nullable = true)\n",
      " |-- dt_retirada: date (nullable = true)\n",
      " |-- cod_grupo: string (nullable = true)\n",
      " |-- dt_geracao_f: timestamp (nullable = true)\n",
      " |-- dt_devolucao: date (nullable = true)\n",
      " |-- dt_geracao: string (nullable = true)\n",
      " |-- qtd_diarias: integer (nullable = true)\n",
      " |-- lista_datas: array (nullable = true)\n",
      " |    |-- element: string (containsNull = true)\n",
      "\n"
     ]
    }
   ],
   "source": [
    "df.printSchema()"
   ]
  },
  {
   "cell_type": "code",
   "execution_count": 78,
   "metadata": {},
   "outputs": [
    {
     "name": "stdout",
     "output_type": "stream",
     "text": [
      "root\n",
      " |-- cod_reserva: string (nullable = true)\n",
      " |-- agencia: string (nullable = true)\n",
      " |-- cod_grupo: string (nullable = true)\n",
      " |-- dt_referencia: date (nullable = true)\n",
      "\n"
     ]
    }
   ],
   "source": [
    "df_quebra = (df.select(\"cod_reserva\",\"agencia\",\"cod_grupo\",explode(\"lista_datas\"))\n",
    "             .withColumnRenamed(\"col\",\"dt_referencia\")\n",
    "             .withColumn(\"dt_referencia\",to_date(\"dt_referencia\",\"yyyy-MM-dd HH:mm:ss\")))\n",
    "df_quebra.printSchema()"
   ]
  },
  {
   "cell_type": "code",
   "execution_count": 79,
   "metadata": {},
   "outputs": [],
   "source": [
    "df_quebra.createOrReplaceTempView(\"reserva_quebra\")"
   ]
  },
  {
   "cell_type": "code",
   "execution_count": 80,
   "metadata": {},
   "outputs": [
    {
     "name": "stderr",
     "output_type": "stream",
     "text": []
    },
    {
     "name": "stdout",
     "output_type": "stream",
     "text": [
      "+-------+---------+-------------+---+\n",
      "|agencia|cod_grupo|dt_referencia|qtd|\n",
      "+-------+---------+-------------+---+\n",
      "|    CGR|       GX|   2021-12-01|  1|\n",
      "|    CNF|        C|   2021-12-02|  3|\n",
      "|    SDU|       GX|   2021-12-06|  2|\n",
      "|    CGB|        B|   2021-12-03|  1|\n",
      "|    POA|        C|   2021-12-11|  6|\n",
      "|    REC|        B|   2021-12-17|  2|\n",
      "|    BPS|        F|   2021-12-13|  1|\n",
      "|    CFB|       GC|   2021-12-13|  1|\n",
      "|    CNF|       GC|   2021-12-19|  1|\n",
      "|    XAP|        A|   2021-12-25|  1|\n",
      "|    NAT|       FX|   2021-11-30|  1|\n",
      "|    RBR|       GC|   2021-12-03|  1|\n",
      "|    LDB|       GX|   2021-12-20|  1|\n",
      "|    MAO|        C|   2021-12-07|  1|\n",
      "|    REC|        F|   2021-12-14|  2|\n",
      "|    FLN|        C|   2021-12-08|  6|\n",
      "|    XAP|        C|   2021-12-09|  4|\n",
      "|    MCP|       GX|   2021-12-20|  2|\n",
      "|    CWB|        C|   2021-11-29|  2|\n",
      "|    LDB|        C|   2021-12-18|  2|\n",
      "+-------+---------+-------------+---+\n",
      "only showing top 20 rows\n",
      "\n"
     ]
    },
    {
     "name": "stderr",
     "output_type": "stream",
     "text": []
    }
   ],
   "source": [
    "spark.sql(\"\"\"\n",
    "          select agencia, cod_grupo, dt_referencia, count(1) as qtd\n",
    "          from reserva_quebra\n",
    "          group by agencia, cod_grupo, dt_referencia\"\"\"\n",
    ").show()\n"
   ]
  },
  {
   "cell_type": "code",
   "execution_count": 81,
   "metadata": {},
   "outputs": [],
   "source": [
    "spark.stop()"
   ]
  }
 ],
 "metadata": {
  "interpreter": {
   "hash": "916dbcbb3f70747c44a77c7bcd40155683ae19c65e1c03b4aa3499c5328201f1"
  },
  "kernelspec": {
   "display_name": "Python 3.8.10 64-bit",
   "language": "python",
   "name": "python3"
  },
  "language_info": {
   "codemirror_mode": {
    "name": "ipython",
    "version": 3
   },
   "file_extension": ".py",
   "mimetype": "text/x-python",
   "name": "python",
   "nbconvert_exporter": "python",
   "pygments_lexer": "ipython3",
   "version": "3.8.10"
  },
  "orig_nbformat": 4
 },
 "nbformat": 4,
 "nbformat_minor": 2
}
