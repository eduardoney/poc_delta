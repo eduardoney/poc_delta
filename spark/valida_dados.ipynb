{
 "cells": [
  {
   "cell_type": "code",
   "execution_count": 1,
   "metadata": {},
   "outputs": [],
   "source": [
    "from pyspark.sql import SparkSession\n",
    "from pyspark.sql.types import DataType, StringType, StructType, StructField, TimestampType\n",
    "from pyspark.sql.functions import from_json, col, to_date, to_timestamp\n",
    "from delta.tables import *"
   ]
  },
  {
   "cell_type": "code",
   "execution_count": 2,
   "metadata": {},
   "outputs": [
    {
     "name": "stderr",
     "output_type": "stream",
     "text": [
      "Warning: Ignoring non-Spark config property: fs.gs.auth.service.account.enable\n",
      "Warning: Ignoring non-Spark config property: fs.gs.auth.service.account.json.keyfile\n",
      "Warning: Ignoring non-Spark config property: fs.AbstractFileSystem.gs.impl\n",
      "Warning: Ignoring non-Spark config property: fs.gs.impl\n",
      "21/11/29 18:08:28 WARN Utils: Your hostname, eduney-pc resolves to a loopback address: 127.0.1.1; using 172.24.114.205 instead (on interface eth0)\n",
      "21/11/29 18:08:28 WARN Utils: Set SPARK_LOCAL_IP if you need to bind to another address\n",
      "WARNING: An illegal reflective access operation has occurred\n",
      "WARNING: Illegal reflective access by org.apache.spark.unsafe.Platform (file:/home/eduney/.local/lib/python3.8/site-packages/pyspark/jars/spark-unsafe_2.12-3.1.2.jar) to constructor java.nio.DirectByteBuffer(long,int)\n",
      "WARNING: Please consider reporting this to the maintainers of org.apache.spark.unsafe.Platform\n",
      "WARNING: Use --illegal-access=warn to enable warnings of further illegal reflective access operations\n",
      "WARNING: All illegal access operations will be denied in a future release\n",
      "Ivy Default Cache set to: /home/eduney/.ivy2/cache\n",
      "The jars for the packages stored in: /home/eduney/.ivy2/jars\n",
      "io.delta#delta-core_2.12 added as a dependency\n",
      "io.delta#delta-contribs_2.12 added as a dependency\n",
      ":: resolving dependencies :: org.apache.spark#spark-submit-parent-ebf28720-f17a-4667-b9a7-8c41054105c0;1.0\n",
      "\tconfs: [default]\n"
     ]
    },
    {
     "name": "stdout",
     "output_type": "stream",
     "text": [
      ":: loading settings :: url = jar:file:/home/eduney/.local/lib/python3.8/site-packages/pyspark/jars/ivy-2.4.0.jar!/org/apache/ivy/core/settings/ivysettings.xml\n"
     ]
    },
    {
     "name": "stderr",
     "output_type": "stream",
     "text": [
      "\tfound io.delta#delta-core_2.12;1.0.0 in central\n",
      "\tfound org.antlr#antlr4;4.7 in central\n",
      "\tfound org.antlr#antlr4-runtime;4.7 in central\n",
      "\tfound org.antlr#antlr-runtime;3.5.2 in central\n",
      "\tfound org.antlr#ST4;4.0.8 in central\n",
      "\tfound org.abego.treelayout#org.abego.treelayout.core;1.0.3 in central\n",
      "\tfound org.glassfish#javax.json;1.0.4 in central\n",
      "\tfound com.ibm.icu#icu4j;58.2 in central\n",
      "\tfound io.delta#delta-contribs_2.12;1.0.0 in central\n",
      ":: resolution report :: resolve 213ms :: artifacts dl 7ms\n",
      "\t:: modules in use:\n",
      "\tcom.ibm.icu#icu4j;58.2 from central in [default]\n",
      "\tio.delta#delta-contribs_2.12;1.0.0 from central in [default]\n",
      "\tio.delta#delta-core_2.12;1.0.0 from central in [default]\n",
      "\torg.abego.treelayout#org.abego.treelayout.core;1.0.3 from central in [default]\n",
      "\torg.antlr#ST4;4.0.8 from central in [default]\n",
      "\torg.antlr#antlr-runtime;3.5.2 from central in [default]\n",
      "\torg.antlr#antlr4;4.7 from central in [default]\n",
      "\torg.antlr#antlr4-runtime;4.7 from central in [default]\n",
      "\torg.glassfish#javax.json;1.0.4 from central in [default]\n",
      "\t---------------------------------------------------------------------\n",
      "\t|                  |            modules            ||   artifacts   |\n",
      "\t|       conf       | number| search|dwnlded|evicted|| number|dwnlded|\n",
      "\t---------------------------------------------------------------------\n",
      "\t|      default     |   9   |   0   |   0   |   0   ||   9   |   0   |\n",
      "\t---------------------------------------------------------------------\n",
      ":: retrieving :: org.apache.spark#spark-submit-parent-ebf28720-f17a-4667-b9a7-8c41054105c0\n",
      "\tconfs: [default]\n",
      "\t0 artifacts copied, 9 already retrieved (0kB/8ms)\n",
      "21/11/29 18:08:30 WARN NativeCodeLoader: Unable to load native-hadoop library for your platform... using builtin-java classes where applicable\n",
      "Using Spark's default log4j profile: org/apache/spark/log4j-defaults.properties\n",
      "Setting default log level to \"WARN\".\n",
      "To adjust logging level use sc.setLogLevel(newLevel). For SparkR, use setLogLevel(newLevel).\n"
     ]
    }
   ],
   "source": [
    "spark = (\n",
    "    SparkSession\n",
    "    .builder\n",
    "    .appName(\"incrementa_reservas_delta\")\n",
    "    .config(\"spark.jars\", \"/opt/spark/jars/gcs-connector-hadoop3-latest.jar\")\n",
    "    # .config(\"spark.jars\", \"./spark/jars/spark-sql-kafka-0-10_2.12-3.1.2.jar\")\n",
    "    #com.google.cloud.bigdataoss:gcs-connector:1.9.4-hadoop3\n",
    "    .config(\"spark.jars.packages\", \"io.delta:delta-core_2.12:1.0.0,io.delta:delta-contribs_2.12:1.0.0\")\n",
    "    .config(\"spark.sql.extensions\", \"io.delta.sql.DeltaSparkSessionExtension\")\n",
    "    .config(\"spark.delta.logStore.gs.impl\", \"io.delta.storage.GCSLogStore\")\n",
    "    .config(\"spark.sql.catalog.spark_catalog\", \"org.apache.spark.sql.delta.catalog.DeltaCatalog\")\n",
    "    .config(\"fs.gs.impl\", \"com.google.cloud.hadoop.fs.gcs.GoogleHadoopFileSystem\")\n",
    "    .config(\"fs.AbstractFileSystem.gs.impl\", \"com.google.cloud.hadoop.fs.gcs.GoogleHadoopFileSystem\")\n",
    "    .config(\"fs.gs.auth.service.account.enable\", \"true\")\n",
    "    .config(\"fs.gs.auth.service.account.json.keyfile\", \"/etc/gcp/sa_credentials.json\")\n",
    "    .enableHiveSupport()\n",
    "    .config(\"spark.driver.memory\", \"8g\")\n",
    "    .getOrCreate()\n",
    ")"
   ]
  },
  {
   "cell_type": "code",
   "execution_count": 3,
   "metadata": {},
   "outputs": [
    {
     "name": "stderr",
     "output_type": "stream",
     "text": []
    }
   ],
   "source": [
    "df = (\n",
    "    spark\n",
    "    .read\n",
    "    .format(\"parquet\")\n",
    "    .load(\"gs://poc_delta/stage/\")\n",
    ")"
   ]
  },
  {
   "cell_type": "code",
   "execution_count": 4,
   "metadata": {},
   "outputs": [
    {
     "name": "stderr",
     "output_type": "stream",
     "text": []
    },
    {
     "name": "stdout",
     "output_type": "stream",
     "text": [
      "+-----------+-------+-----------+---------+--------------------+------------+--------------------+\n",
      "|cod_reserva|agencia|dt_retirada|cod_grupo|        dt_geracao_f|dt_devolucao|          dt_geracao|\n",
      "+-----------+-------+-----------+---------+--------------------+------------+--------------------+\n",
      "|   19812892|    MCP| 2021-12-11|        B|2021-11-29 16:52:...|  2021-12-16|2021-11-29 16:52:...|\n",
      "|   61381162|    THE| 2021-12-01|       GX|2021-11-29 16:52:...|  2021-12-06|2021-11-29 16:52:...|\n",
      "|   99007065|    PMW| 2021-12-04|        C|2021-11-29 16:52:...|  2021-12-09|2021-11-29 16:52:...|\n",
      "|   75329358|    SDU| 2021-12-12|        B|2021-11-29 16:52:...|  2021-12-17|2021-11-29 16:52:...|\n",
      "|   21666223|    VCP| 2021-12-07|        B|2021-11-29 16:52:...|  2021-12-12|2021-11-29 16:52:...|\n",
      "|   42839804|    SSA| 2021-12-06|        C|2021-11-29 16:52:...|  2021-12-11|2021-11-29 16:52:...|\n",
      "|   60226228|    MCP| 2021-12-06|        B|2021-11-29 16:52:...|  2021-12-11|2021-11-29 16:52:...|\n",
      "|   70886924|    BPS| 2021-12-09|       FX|2021-11-29 16:52:...|  2021-12-14|2021-11-29 16:52:...|\n",
      "|   43640317|    CPV| 2021-12-06|       FX|2021-11-29 16:52:...|  2021-12-11|2021-11-29 16:52:...|\n",
      "|   25974119|    MAB| 2021-11-30|        A|2021-11-29 16:52:...|  2021-12-05|2021-11-29 16:52:...|\n",
      "+-----------+-------+-----------+---------+--------------------+------------+--------------------+\n",
      "only showing top 10 rows\n",
      "\n"
     ]
    },
    {
     "name": "stderr",
     "output_type": "stream",
     "text": []
    }
   ],
   "source": [
    "df.show(10)"
   ]
  },
  {
   "cell_type": "code",
   "execution_count": 10,
   "metadata": {},
   "outputs": [
    {
     "name": "stderr",
     "output_type": "stream",
     "text": [
      "21/11/29 18:22:30 WARN ObjectStore: Failed to get database delta, returning NoSuchObjectException\n"
     ]
    },
    {
     "name": "stdout",
     "output_type": "stream",
     "text": [
      "+------------------+\n",
      "|count(cod_reserva)|\n",
      "+------------------+\n",
      "|               882|\n",
      "+------------------+\n",
      "\n"
     ]
    },
    {
     "name": "stderr",
     "output_type": "stream",
     "text": []
    }
   ],
   "source": [
    "spark.sql(\"\"\"\n",
    "          select count(cod_reserva)\n",
    "          from delta.`gs://poc_delta/stage/`\n",
    "          \"\"\").show()"
   ]
  }
 ],
 "metadata": {
  "interpreter": {
   "hash": "916dbcbb3f70747c44a77c7bcd40155683ae19c65e1c03b4aa3499c5328201f1"
  },
  "kernelspec": {
   "display_name": "Python 3.8.10 64-bit",
   "language": "python",
   "name": "python3"
  },
  "language_info": {
   "codemirror_mode": {
    "name": "ipython",
    "version": 3
   },
   "file_extension": ".py",
   "mimetype": "text/x-python",
   "name": "python",
   "nbconvert_exporter": "python",
   "pygments_lexer": "ipython3",
   "version": "3.8.10"
  },
  "orig_nbformat": 4
 },
 "nbformat": 4,
 "nbformat_minor": 2
}
